{
 "cells": [
  {
   "cell_type": "code",
   "execution_count": null,
   "metadata": {},
   "outputs": [],
   "source": [
    "import pandas as pd\n",
    "import sqlite3\n",
    "import matplotlib.pyplot as plot\n",
    "\n",
    "conn = sqlite3.connect('data/github.db')\n",
    "data = pd.read_sql_query(\"\"\"\n",
    "SELECT strftime('%Y-%m-01', date) AS date, organization, repository,\n",
    "MAX(stargazers) AS stargazers, MAX(forks) AS forks\n",
    "FROM github_stats\n",
    "GROUP BY organization, repository, strftime('%Y-%m', date)\n",
    "\"\"\", conn)\n",
    "\n",
    "def subset(org_and_repo):\n",
    "    org, repo = org_and_repo.split('/')\n",
    "    return data.loc[(data.organization == org) & (data.repository == repo)]\n",
    "\n",
    "def merge_repos(repos, metric='stargazers'):\n",
    "    data = pd.DataFrame(columns=['Date'])\n",
    "    for repo in repos:\n",
    "        repo_data = subset(repo)\n",
    "        repo_data = repo_data[['date', metric]].rename(columns={metric: repo, 'date': 'Date'})\n",
    "        data = data.merge(repo_data, on='Date', how='outer')\n",
    "    return data.sort_values(by='Date')\n",
    "\n",
    "def plot_repos(title, repos, metric='stargazers'):\n",
    "    plot_data = merge_repos(repos, metric)\n",
    "    plot_data.plot(x='Date', y=repos, title=title, figsize=(15,10))\n",
    "\n",
    "def plot_all_repos(title, org, metric='stargazers'):\n",
    "    repo_data = data.loc[data.organization == org]\n",
    "    repos = [org + '/' + repo for repo in repo_data.repository.unique()]\n",
    "    plot_repos(title, repos, metric)"
   ]
  },
  {
   "cell_type": "code",
   "execution_count": null,
   "metadata": {},
   "outputs": [],
   "source": [
    "repos = [\n",
    "    'operator-framework/operator-sdk',\n",
    "    'kubernetes-sigs/kubebuilder',\n",
    "    'kubernetes-sigs/controller-runtime',\n",
    "    'kudobuilder/kudo',\n",
    "    'bluek8s/kubedirector',\n",
    "    'kubedb/operator',\n",
    "    'rook/operator-kit',\n",
    "    'GoogleCloudPlatform/metacontroller',\n",
    "    'zalando-incubator/kopf'\n",
    "]\n",
    "\n",
    "plot_repos('Operator Tools', repos)"
   ]
  },
  {
   "cell_type": "code",
   "execution_count": null,
   "metadata": {},
   "outputs": [],
   "source": [
    "import requests\n",
    "import re\n",
    "\n",
    "r = requests.get('https://twitter.com/kudobuilder')\n",
    "m = re.search('title=\"([0-9]+) Followers\"', r.text)\n",
    "followers = int(m.group(1))\n",
    "\n",
    "cursor = conn.cursor()\n",
    "cursor.execute('''INSERT INTO twitter_stats (date, followers) VALUES (date('now'), ?)''', (followers,))\n",
    "conn.commit()\n",
    "\n",
    "print(\"@kudobuilder has {} Twitter followers\".format(followers))"
   ]
  },
  {
   "cell_type": "code",
   "execution_count": null,
   "metadata": {},
   "outputs": [],
   "source": [
    "plot_all_repos('Operator Framework', 'operator-framework')"
   ]
  },
  {
   "cell_type": "code",
   "execution_count": null,
   "metadata": {},
   "outputs": [],
   "source": [
    "awesome_repo_names = [l.rstrip('\\n') for l in open('awesome_operators.txt').readlines()]\n",
    "\n",
    "def name_and_stars(name):\n",
    "    awesome_data = subset(name)\n",
    "    max_stars = awesome_data['stargazers'].max()\n",
    "    return (name, max_stars)\n",
    "\n",
    "awesome_data = pd.DataFrame(map(name_and_stars, awesome_repo_names), columns=['repository', 'stargazers']).dropna()\n",
    "\n",
    "n = 50\n",
    "top_n_operators = awesome_data.sort_values(by='stargazers', ascending=False).head(n)\n",
    "top_n_operators"
   ]
  },
  {
   "cell_type": "code",
   "execution_count": null,
   "metadata": {},
   "outputs": [],
   "source": [
    "top_n_operators.plot(x='repository', y='stargazers', kind='bar', figsize=(20,10), title='Github stars for operators listed in awesome-operators')"
   ]
  },
  {
   "cell_type": "code",
   "execution_count": null,
   "metadata": {},
   "outputs": [],
   "source": [
    "repos = [\n",
    "    'operator-framework/operator-sdk',\n",
    "    'kubernetes-sigs/kubebuilder',\n",
    "    'kudobuilder/kudo',\n",
    "    'bluek8s/kubedirector',\n",
    "    'kubedb/operator',\n",
    "    'rook/operator-kit',\n",
    "    'GoogleCloudPlatform/metacontroller',\n",
    "    'zalando-incubator/kopf'\n",
    "]\n",
    "\n",
    "plot_data = merge_repos(repos, 'forks')\n",
    "plot_data"
   ]
  },
  {
   "cell_type": "code",
   "execution_count": null,
   "metadata": {},
   "outputs": [],
   "source": []
  }
 ],
 "metadata": {
  "kernelspec": {
   "display_name": "Python 3",
   "language": "python",
   "name": "python3"
  },
  "language_info": {
   "codemirror_mode": {
    "name": "ipython",
    "version": 3
   },
   "file_extension": ".py",
   "mimetype": "text/x-python",
   "name": "python",
   "nbconvert_exporter": "python",
   "pygments_lexer": "ipython3",
   "version": "3.6.7"
  },
  "toc": {
   "base_numbering": 1,
   "nav_menu": {},
   "number_sections": false,
   "sideBar": false,
   "skip_h1_title": false,
   "title_cell": "Table of Contents",
   "title_sidebar": "Contents",
   "toc_cell": false,
   "toc_position": {},
   "toc_section_display": false,
   "toc_window_display": false
  }
 },
 "nbformat": 4,
 "nbformat_minor": 2
}
