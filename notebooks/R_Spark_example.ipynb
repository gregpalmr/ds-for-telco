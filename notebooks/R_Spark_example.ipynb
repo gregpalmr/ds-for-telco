{
 "cells": [
  {
   "cell_type": "code",
   "execution_count": null,
   "metadata": {},
   "outputs": [],
   "source": [
    "mypkgdir=paste(Sys.getenv('HOME'), \"/R/packages\", sep = '')\n",
    "system(\"mkdir -p ~/R/packages\")\n",
    ".libPaths( c( .libPaths(), \"~/R/packages\") )"
   ]
  },
  {
   "cell_type": "code",
   "execution_count": null,
   "metadata": {},
   "outputs": [],
   "source": [
    "list.of.packages <- c('titanic', 'sparklyr', 'dplyr', 'ggplot2', 'purrr', 'tidyr', 'ndjson', 'aws.s3')\n",
    "new.packages <- list.of.packages[!(list.of.packages %in% installed.packages()[,\"Package\"])]\n",
    "if(length(new.packages)) install.packages(new.packages, lib = mypkgdir, verbose = TRUE)"
   ]
  },
  {
   "cell_type": "code",
   "execution_count": null,
   "metadata": {},
   "outputs": [],
   "source": [
    "library(purrr) # map()\n",
    "library(sparklyr, warn.conflicts = FALSE)\n",
    "library(dplyr, warn.conflicts = FALSE);\n",
    "library(ggplot2)\n",
    "library(tidyr) # gather()"
   ]
  },
  {
   "cell_type": "code",
   "execution_count": null,
   "metadata": {},
   "outputs": [],
   "source": [
    "sc <- spark_connect(master = Sys.getenv('SPARK_MASTER_URL'))"
   ]
  },
  {
   "cell_type": "code",
   "execution_count": null,
   "metadata": {},
   "outputs": [],
   "source": [
    "library(titanic)\n",
    "(titanic_tbl <- copy_to(sc, titanic::titanic_train, \"titanic\", overwrite = TRUE))"
   ]
  },
  {
   "cell_type": "code",
   "execution_count": null,
   "metadata": {},
   "outputs": [],
   "source": [
    "# `.libPaths`()\n",
    "titanic_tbl"
   ]
  },
  {
   "cell_type": "code",
   "execution_count": null,
   "metadata": {},
   "outputs": [],
   "source": [
    "titanic2_tbl <- titanic_tbl %>% \n",
    "  mutate(Family_Size = SibSp + Parch + 1L) %>% \n",
    "  mutate(Pclass = as.character(Pclass)) %>%\n",
    "  filter(!is.na(Embarked), Embarked != \"\") %>%\n",
    "#   mutate(Age = if_else(is.na(Age), mean(Age), Age)) %>%\n",
    "  mutate(Age = if_else(is.na(Age), 999, Age)) %>%\n",
    "  sdf_register(\"titanic2\")"
   ]
  },
  {
   "cell_type": "code",
   "execution_count": null,
   "metadata": {},
   "outputs": [],
   "source": [
    "titanic_final_tbl <- titanic2_tbl %>%\n",
    "  mutate(Family_Size = as.numeric(Family_size)) %>%\n",
    "  ft_bucketizer(input_col = \"Family_Size\",\n",
    "                output_col = \"Family_Sizes\",\n",
    "                splits = c(1,2,5,12)) %>%\n",
    "  mutate(Family_Sizes = as.character(as.integer(Family_Sizes))) %>%\n",
    "  sdf_register(\"titanic_final\")"
   ]
  },
  {
   "cell_type": "code",
   "execution_count": null,
   "metadata": {},
   "outputs": [],
   "source": [
    "# Partition the data\n",
    "partition <- titanic_final_tbl %>% \n",
    "  mutate(Survived = as.numeric(Survived),\n",
    "         SibSp = as.numeric(SibSp),\n",
    "         Parch = as.numeric(Parch)) %>%\n",
    "  select(Survived, Pclass, Sex, Age, SibSp, Parch, Fare, Embarked, Family_Sizes) %>%\n",
    "  sdf_random_split( training = 0.75, test = 0.25, seed = 1234)\n",
    "\n",
    "# Create table references\n",
    "train_tbl <- partition$train\n",
    "test_tbl <- partition$test"
   ]
  },
  {
   "cell_type": "code",
   "execution_count": null,
   "metadata": {},
   "outputs": [],
   "source": [
    "data(diamonds, package = \"ggplot2\")\n",
    "diamonds_tbl <- copy_to(sc, diamonds, \"diamonds\")\n",
    "partitions <- diamonds_tbl %>%\n",
    "  sdf_random_split(training = 0.6, test = 0.4)\n",
    "print(partitions)\n",
    "\n",
    "# alternate way of specifying weights\n",
    "weights <- c(training = 0.6, test = 0.4)\n",
    "diamonds_tbl %>% sdf_random_split(weights = weights)\n"
   ]
  },
  {
   "cell_type": "code",
   "execution_count": null,
   "metadata": {},
   "outputs": [],
   "source": [
    "# Model survival as a function of several predictors\n",
    "ml_formula <- formula(Survived ~ Pclass + Sex + Age + SibSp +\n",
    "                        Parch + Fare + Embarked + Family_Sizes)\n",
    "\n",
    "# Train a logistic regression model\n",
    "(ml_log <- ml_logistic_regression(train_tbl, ml_formula))\n"
   ]
  },
  {
   "cell_type": "code",
   "execution_count": null,
   "metadata": {},
   "outputs": [],
   "source": [
    "# Decision Tree\n",
    "ml_dt <- ml_decision_tree(train_tbl, ml_formula)\n",
    "\n",
    "# Random Forest\n",
    "ml_rf <- ml_random_forest(train_tbl, ml_formula)\n",
    "\n",
    "# Gradient Boosted Tree\n",
    "ml_gbt <- ml_gradient_boosted_trees(train_tbl, ml_formula)\n",
    "\n",
    "# Naive Bayes\n",
    "ml_nb <- ml_naive_bayes(train_tbl, ml_formula)\n",
    "\n",
    "# Neural Network\n",
    "ml_nn <- ml_multilayer_perceptron_classifier(train_tbl, ml_formula, layers = c(11, 15, 2))\n"
   ]
  },
  {
   "cell_type": "code",
   "execution_count": null,
   "metadata": {},
   "outputs": [],
   "source": [
    "# Bundle the models into a single list object\n",
    "ml_models <- list(\n",
    "  \"Logistic\" = ml_log,\n",
    "  \"Decision Tree\" = ml_dt,\n",
    "  \"Random Forest\" = ml_rf,\n",
    "  \"Gradient Boosted Trees\" = ml_gbt,\n",
    "  \"Naive Bayes\" = ml_nb,\n",
    "  \"Neural Net\" = ml_nn\n",
    ")\n",
    "\n",
    "# Create a function for scoring\n",
    "score_test_data <- function(model, data = test_tbl){\n",
    "  pred <- ml_predict(model, data)\n",
    "  select(pred, Survived, prediction)\n",
    "}\n",
    "\n",
    "# Score all the models\n",
    "ml_score <- map(ml_models, score_test_data)"
   ]
  },
  {
   "cell_type": "code",
   "execution_count": null,
   "metadata": {},
   "outputs": [],
   "source": [
    "# Lift function\n",
    "calculate_lift <- function(scored_data) {\n",
    "  scored_data %>%\n",
    "    mutate(bin = ntile(desc(prediction), 10)) %>% \n",
    "    group_by(bin) %>% \n",
    "    summarize(count = sum(Survived, na.rm = TRUE)) %>% \n",
    "    mutate(prop = count / sum(count, na.rm = TRUE)) %>% \n",
    "    arrange(bin) %>% \n",
    "    mutate(prop = cumsum(prop)) %>% \n",
    "    select(-count) %>% \n",
    "    collect() %>% \n",
    "    as.data.frame()\n",
    "}\n",
    "\n",
    "# Initialize results\n",
    "ml_gains <- tibble(\n",
    "  bin = seq(from = 1, to = 10),\n",
    "  prop = seq(0, 1, len = 10),\n",
    "  model = \"Base\"\n",
    ")\n",
    "\n",
    "# Calculate lift\n",
    "for(i in names(ml_score)){\n",
    "  ml_gains <- ml_score[[i]] %>%\n",
    "    calculate_lift %>%\n",
    "    mutate(model = i) %>%\n",
    "    bind_rows(ml_gains, .)\n",
    "}\n",
    "\n",
    "# Plot results\n",
    "ggplot(ml_gains, aes(x = bin, y = prop, color = model)) +\n",
    "  geom_point() +\n",
    "  geom_line() +\n",
    "  scale_color_brewer(type = \"qual\") +\n",
    "  labs(title = \"Lift Chart for Predicting Survival\",\n",
    "       subtitle = \"Test Data Set\",\n",
    "       x = NULL,\n",
    "       y = NULL)"
   ]
  },
  {
   "cell_type": "code",
   "execution_count": null,
   "metadata": {},
   "outputs": [],
   "source": [
    "# Function for calculating accuracy\n",
    "calc_accuracy <- function(data, cutpoint = 0.5){\n",
    "  data %>% \n",
    "    mutate(prediction = if_else(prediction > cutpoint, 1.0, 0.0)) %>%\n",
    "    ml_multiclass_classification_evaluator(\"prediction\", \"Survived\", \"accuracy\")\n",
    "}\n",
    "\n",
    "# Calculate AUC and accuracy\n",
    "perf_metrics <- tibble(\n",
    "  model = names(ml_score),\n",
    "  AUC = 100 * map_dbl(ml_score, ml_binary_classification_evaluator, \"Survived\", \"prediction\"),\n",
    "  Accuracy = 100 * map_dbl(ml_score, calc_accuracy)\n",
    "  )\n",
    "perf_metrics"
   ]
  },
  {
   "cell_type": "code",
   "execution_count": null,
   "metadata": {},
   "outputs": [],
   "source": [
    "\n",
    "# Plot results\n",
    "gather(perf_metrics, metric, value, AUC, Accuracy) %>%\n",
    "  ggplot(aes(reorder(model, value), value, fill = metric)) + \n",
    "  geom_bar(stat = \"identity\", position = \"dodge\") + \n",
    "  coord_flip() +\n",
    "  labs(title = \"Performance metrics\",\n",
    "       x = NULL,\n",
    "       y = \"Percent\")\n"
   ]
  },
  {
   "cell_type": "code",
   "execution_count": null,
   "metadata": {},
   "outputs": [],
   "source": [
    "# Initialize results\n",
    "feature_importance <- tibble()\n",
    "\n",
    "# Calculate feature importance\n",
    "for(i in c(\"Decision Tree\", \"Random Forest\", \"Gradient Boosted Trees\")){\n",
    "  feature_importance <- ml_tree_feature_importance(ml_models[[i]]) %>%\n",
    "    mutate(Model = i) %>%\n",
    "    rbind(feature_importance, .)\n",
    "}\n",
    "\n",
    "# Plot results\n",
    "feature_importance %>%\n",
    "  ggplot(aes(reorder(feature, importance), importance, fill = Model)) + \n",
    "  facet_wrap(~Model) +\n",
    "  geom_bar(stat = \"identity\") + \n",
    "  coord_flip() +\n",
    "  labs(title = \"Feature importance\",\n",
    "       x = NULL) +\n",
    "  theme(legend.position = \"none\")\n"
   ]
  },
  {
   "cell_type": "code",
   "execution_count": null,
   "metadata": {},
   "outputs": [],
   "source": [
    "# Number of reps per model\n",
    "n <- 10\n",
    "\n",
    "# Format model formula as character\n",
    "format_as_character <- function(x){\n",
    "  x <- paste(deparse(x), collapse = \"\")\n",
    "  x <- gsub(\"\\\\s+\", \" \", paste(x, collapse = \"\"))\n",
    "  x\n",
    "}\n",
    "\n",
    "# Create model statements with timers\n",
    "format_statements <- function(y){\n",
    "  y <- format_as_character(y[[\".call\"]])\n",
    "  y <- gsub('ml_formula', ml_formula_char, y)\n",
    "  y <- paste0(\"system.time(\", y, \")\")\n",
    "  y\n",
    "}\n",
    "\n",
    "# Convert model formula to character\n",
    "ml_formula_char <- format_as_character(ml_formula)\n",
    "\n",
    "# Create n replicates of each model statements with timers\n",
    "all_statements <- map_chr(ml_models, format_statements) %>%\n",
    "  rep(., n) %>%\n",
    "  parse(text = .)\n",
    "\n",
    "# Evaluate all model statements\n",
    "res <- map(all_statements, eval)\n",
    "\n",
    "# Compile results\n",
    "result <- tibble(model = rep(names(ml_models), n),\n",
    "                 time = map_dbl(res, function(x){as.numeric(x[\"elapsed\"])})) \n",
    "\n",
    "# Plot\n",
    "result %>%\n",
    "  ggplot(aes(time, reorder(model, time))) + \n",
    "  geom_boxplot() + \n",
    "  geom_jitter(width = 0.4, aes(color = model)) +\n",
    "  scale_color_discrete(guide = FALSE) +\n",
    "  labs(title = \"Model training times\",\n",
    "       x = \"Seconds\",\n",
    "       y = NULL)\n"
   ]
  },
  {
   "cell_type": "code",
   "execution_count": null,
   "metadata": {},
   "outputs": [],
   "source": [
    "# library(dplyr)\n",
    "# head(iris)"
   ]
  },
  {
   "cell_type": "code",
   "execution_count": null,
   "metadata": {},
   "outputs": [],
   "source": [
    "# iris_tbl <- sdf_copy_to(sc = sc, x = iris, overwrite = T)"
   ]
  },
  {
   "cell_type": "code",
   "execution_count": null,
   "metadata": {},
   "outputs": [],
   "source": [
    "# # iris_tbl\n",
    "# src_tbls(sc)\n"
   ]
  },
  {
   "cell_type": "code",
   "execution_count": null,
   "metadata": {},
   "outputs": [],
   "source": [
    "\n",
    "# Create a simple local data.frame\n",
    "localDF <- data.frame(name=c(\"John\", \"Smith\", \"Sarah\"), age=c(19, 23, 18))"
   ]
  },
  {
   "cell_type": "code",
   "execution_count": null,
   "metadata": {},
   "outputs": [],
   "source": [
    "# people_tbl = sdf_copy_to(sc = sc, x = localDF, overwrite = T)\n",
    "people_tbl = sdf_copy_to(sc = sc, x = localDF, overwrite = T, name = 'people')\n",
    "people_tbl"
   ]
  },
  {
   "cell_type": "code",
   "execution_count": null,
   "metadata": {},
   "outputs": [],
   "source": [
    "sdf_sql(sc, 'select * FROM people WHERE age >= 13 AND age <= 19')"
   ]
  },
  {
   "cell_type": "code",
   "execution_count": null,
   "metadata": {},
   "outputs": [],
   "source": [
    "library(ndjson);"
   ]
  },
  {
   "cell_type": "code",
   "execution_count": null,
   "metadata": {},
   "outputs": [],
   "source": [
    "ndjson::stream_in(\n",
    "    paste(Sys.getenv(\"SPARK_HOME\"), \"/examples/src/main/resources/people.json\", sep = \"\")\n",
    ")"
   ]
  },
  {
   "cell_type": "code",
   "execution_count": null,
   "metadata": {},
   "outputs": [],
   "source": [
    "spark_disconnect(sc)"
   ]
  }
 ],
 "metadata": {
  "kernelspec": {
   "display_name": "R",
   "language": "R",
   "name": "ir"
  },
  "language_info": {
   "codemirror_mode": "r",
   "file_extension": ".r",
   "mimetype": "text/x-r-source",
   "name": "R",
   "pygments_lexer": "r",
   "version": "3.5.1"
  }
 },
 "nbformat": 4,
 "nbformat_minor": 2
}
