{
 "cells": [
  {
   "cell_type": "markdown",
   "metadata": {},
   "source": [
    "# Kubernetes activity reflected in GitHub act|ivity\n",
    "\n",
    "Plot metrics related to GitHub repo activity over time, including number of starred repos, commits etc.\n",
    "\n",
    "Notebook is meant to be *very* portable - no use of distributed FS or processing."
   ]
  },
  {
   "cell_type": "code",
   "execution_count": null,
   "metadata": {},
   "outputs": [],
   "source": [
    "# All imports required for the notebook - use conda or pip to install missing libs\n",
    "import requests\n",
    "import re\n",
    "import pandas as pd\n",
    "import sqlite3\n",
    "import matplotlib.pyplot as plot"
   ]
  },
  {
   "cell_type": "code",
   "execution_count": null,
   "metadata": {},
   "outputs": [],
   "source": [
    "# Define functions to be used for plotting\n",
    "\n",
    "def subset(org_and_repo):\n",
    "    org, repo = org_and_repo.split('/')\n",
    "    return data.loc[(data.organization == org) & (data.repository == repo)]\n",
    "\n",
    "def merge_repos(repos, metric='stargazers'):\n",
    "    data = pd.DataFrame(columns=['Date'])\n",
    "    for repo in repos:\n",
    "        repo_data = subset(repo)\n",
    "        repo_data = repo_data[['date', metric]].rename(columns={metric: repo, 'date': 'Date'})\n",
    "        data = data.merge(repo_data, on='Date', how='outer')\n",
    "    return data.sort_values(by='Date')\n",
    "\n",
    "def plot_repos(title, repos, metric='stargazers'):\n",
    "    plot_data = merge_repos(repos, metric)\n",
    "    plot_data.plot(x='Date', y=repos, title=title, figsize=(15,10))\n",
    "\n",
    "def plot_all_repos(title, org, metric='stargazers'):\n",
    "    repo_data = data.loc[data.organization == org]\n",
    "    repos = [org + '/' + repo for repo in repo_data.repository.unique()]\n",
    "    plot_repos(title, repos, metric)\n",
    "    \n"
   ]
  },
  {
   "cell_type": "markdown",
   "metadata": {},
   "source": [
    "## Load data from last survey"
   ]
  },
  {
   "cell_type": "code",
   "execution_count": null,
   "metadata": {},
   "outputs": [],
   "source": [
    "conn = sqlite3.connect('../../data/github.db')\n",
    "data = pd.read_sql_query(\"\"\"\n",
    "SELECT strftime('%Y-%m-01', date) AS date, organization, repository,\n",
    "MAX(stargazers) AS stargazers, MAX(forks) AS forks\n",
    "FROM github_stats\n",
    "GROUP BY organization, repository, strftime('%Y-%m', date)\n",
    "\"\"\", conn)"
   ]
  },
  {
   "cell_type": "markdown",
   "metadata": {},
   "source": [
    "## Gather the latest in search keywords\n",
    "\n",
    "\"Awesome Operators\" is a community-maintained list of K8s operators\n",
    "\n",
    "> Operators are Kubernetes native applications. We define native as being both managed using the Kubernetes APIs via kubectl and ran on Kubernetes as containers. Operators take advantage of Kubernetes’s extensibility to deliver the automation advantages of cloud services like provisioning, scaling, and backup/restore while being able to run anywhere that Kubernetes can run.\n",
    "\n",
    "Let's grab the latest"
   ]
  },
  {
   "cell_type": "code",
   "execution_count": null,
   "metadata": {},
   "outputs": [],
   "source": [
    "f =open('../../data/awesome_operators.txt', 'w')\n",
    "awesome_re = re.compile(\"\\[([^\\]]+/[^\\]]+)\\]\")\n",
    "r = requests.get('https://raw.githubusercontent.com/operator-framework/awesome-operators/master/README.md')\n",
    "operators = awesome_re.findall(r.text)\n",
    "\n",
    "for operator in operators:\n",
    "    f.write(operator + '\\n')\n",
    "f.close()"
   ]
  },
  {
   "cell_type": "markdown",
   "metadata": {},
   "source": [
    "## Top repos by stars (number of stargazers)"
   ]
  },
  {
   "cell_type": "code",
   "execution_count": null,
   "metadata": {},
   "outputs": [],
   "source": [
    "awesome_repo_names = [l.rstrip('\\n') for l in open('../../data/awesome_operators.txt').readlines()]\n",
    "def name_and_stars(name):\n",
    "    awesome_data = subset(name)\n",
    "    max_stars = awesome_data['stargazers'].max()\n",
    "    return (name, max_stars)\n",
    "awesome_data = pd.DataFrame(map(name_and_stars, awesome_repo_names), columns=['repository', 'stargazers']).dropna()\n",
    "\n",
    "n = 10\n",
    "top_n_operators = awesome_data.sort_values(by='stargazers', ascending=False).head(n)\n",
    "top_n_operators"
   ]
  },
  {
   "cell_type": "markdown",
   "metadata": {},
   "source": [
    "## Top stargazers visualized"
   ]
  },
  {
   "cell_type": "code",
   "execution_count": null,
   "metadata": {},
   "outputs": [],
   "source": [
    "top_n_operators.plot(x='repository', y='stargazers', kind='bar', figsize=(20,10), title='Github stars for operators listed in awesome-operators')"
   ]
  },
  {
   "cell_type": "markdown",
   "metadata": {},
   "source": [
    "## Analytics over time\n",
    "\n",
    "The following plots show various categories of activity over time"
   ]
  },
  {
   "cell_type": "code",
   "execution_count": null,
   "metadata": {},
   "outputs": [],
   "source": [
    "repos = [\n",
    "    'tensorflow/tensorflow',\n",
    "    'apache/incubator-mxnet',\n",
    "    'Microsoft/CNTK',\n",
    "    'BVLC/caffe',\n",
    "    'keras-team/keras',\n",
    "    'Theano/Theano',\n",
    "    'amzn/amazon-dsstne',\n",
    "    'pytorch/pytorch'\n",
    "]\n",
    "plot_repos('Machine Learning', repos)"
   ]
  },
  {
   "cell_type": "code",
   "execution_count": null,
   "metadata": {},
   "outputs": [],
   "source": [
    "repos = [\n",
    "    'kubeflow/kubeflow',\n",
    "    'tensorflow/tfx'\n",
    "]\n",
    "plot_repos('Machine Learning Platforms', repos)"
   ]
  },
  {
   "cell_type": "code",
   "execution_count": null,
   "metadata": {},
   "outputs": [],
   "source": [
    "repos = [\n",
    "    'apache/spark',\n",
    "    'apache/ignite',\n",
    "    'apache/flink',\n",
    "    'apache/beam',\n",
    "    'apache/storm',\n",
    "    'apache/samza'\n",
    "]\n",
    "plot_repos('Big Data', repos)"
   ]
  },
  {
   "cell_type": "code",
   "execution_count": null,
   "metadata": {},
   "outputs": [],
   "source": [
    "repos = [\n",
    "    'fnproject/fn',\n",
    "    'openfaas/faas',\n",
    "    'apache/incubator-openwhisk',\n",
    "    'fission/fission',\n",
    "    'apex/apex',\n",
    "    'serverless/serverless',\n",
    "    'kubeless/kubeless',\n",
    "    'knative/serving'\n",
    "]\n",
    "\n",
    "plot_repos('Functions as a Service', repos)"
   ]
  },
  {
   "cell_type": "code",
   "execution_count": null,
   "metadata": {},
   "outputs": [],
   "source": [
    "repos = [\n",
    "    'mesosphere/marathon',\n",
    "    'hashicorp/nomad',\n",
    "    'kubernetes/kubernetes',\n",
    "    'docker/swarm',\n",
    "    'docker/swarmkit'\n",
    "]\n",
    "\n",
    "plot_repos('Container Orchestration', repos)"
   ]
  },
  {
   "cell_type": "code",
   "execution_count": null,
   "metadata": {},
   "outputs": [],
   "source": [
    "repos = [\n",
    "    'jupyter/notebook',\n",
    "    'apache/zeppelin',\n",
    "    'jupyterhub/jupyterhub'\n",
    "]\n",
    "\n",
    "plot_repos('Data Science Notebooks', repos)"
   ]
  },
  {
   "cell_type": "code",
   "execution_count": null,
   "metadata": {},
   "outputs": [],
   "source": [
    "plot_all_repos('Kubernetes', 'kubernetes')"
   ]
  },
  {
   "cell_type": "code",
   "execution_count": null,
   "metadata": {},
   "outputs": [],
   "source": [
    "plot_all_repos('Operator Framework', 'operator-framework')"
   ]
  },
  {
   "cell_type": "code",
   "execution_count": null,
   "metadata": {},
   "outputs": [],
   "source": [
    "repos = [\n",
    "    'operator-framework/operator-sdk',\n",
    "    'kubernetes-sigs/kubebuilder',\n",
    "    'kubernetes-sigs/controller-runtime',\n",
    "    'kudobuilder/kudo',\n",
    "    'bluek8s/kubedirector',\n",
    "    'kubedb/operator',\n",
    "    'rook/operator-kit',\n",
    "    'GoogleCloudPlatform/metacontroller',\n",
    "    'zalando-incubator/kopf'\n",
    "]\n",
    "\n",
    "plot_repos('Operator Tools', repos)"
   ]
  },
  {
   "cell_type": "code",
   "execution_count": null,
   "metadata": {},
   "outputs": [],
   "source": [
    "plot_all_repos('Kubernetes SIGs', 'kubernetes-sigs')"
   ]
  },
  {
   "cell_type": "code",
   "execution_count": null,
   "metadata": {},
   "outputs": [],
   "source": [
    "most_stars = data.groupby(['organization', 'repository']).max().sort_values(['stargazers'])\n",
    "most_stars"
   ]
  },
  {
   "cell_type": "code",
   "execution_count": null,
   "metadata": {},
   "outputs": [],
   "source": [
    "plot_all_repos('Gardener', 'gardener')"
   ]
  },
  {
   "cell_type": "code",
   "execution_count": null,
   "metadata": {},
   "outputs": [],
   "source": [
    "repos = [\n",
    "    'istio/istio',\n",
    "    'linkerd/linkerd2'\n",
    "]\n",
    "plot_repos('Service Mesh', repos)"
   ]
  },
  {
   "cell_type": "code",
   "execution_count": null,
   "metadata": {},
   "outputs": [],
   "source": [
    "repos = [\n",
    "    'operator-framework/operator-sdk',\n",
    "    'kubernetes-sigs/kubebuilder',\n",
    "    'kudobuilder/kudo',\n",
    "    'bluek8s/kubedirector',\n",
    "    'kubedb/operator',\n",
    "    'rook/operator-kit',\n",
    "    'GoogleCloudPlatform/metacontroller',\n",
    "    'zalando-incubator/kopf'\n",
    "]\n",
    "\n",
    "plot_data = merge_repos(repos, 'forks')\n",
    "plot_data"
   ]
  }
 ],
 "metadata": {
  "kernelspec": {
   "display_name": "Python 3",
   "language": "python",
   "name": "python3"
  },
  "language_info": {
   "codemirror_mode": {
    "name": "ipython",
    "version": 3
   },
   "file_extension": ".py",
   "mimetype": "text/x-python",
   "name": "python",
   "nbconvert_exporter": "python",
   "pygments_lexer": "ipython3",
   "version": "3.6.7"
  },
  "toc": {
   "base_numbering": 1,
   "nav_menu": {},
   "number_sections": false,
   "sideBar": false,
   "skip_h1_title": false,
   "title_cell": "Table of Contents",
   "title_sidebar": "Contents",
   "toc_cell": false,
   "toc_position": {},
   "toc_section_display": false,
   "toc_window_display": false
  }
 },
 "nbformat": 4,
 "nbformat_minor": 2
}
