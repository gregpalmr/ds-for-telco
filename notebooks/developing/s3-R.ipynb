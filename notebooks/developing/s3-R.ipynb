{
 "cells": [
  {
   "cell_type": "code",
   "execution_count": null,
   "metadata": {},
   "outputs": [],
   "source": [
    "mypkgdir=paste(Sys.getenv('HOME'), \"/R/packages\", sep = '')\n",
    "system(\"mkdir -p ~/R/packages\")\n",
    ".libPaths( c( .libPaths(), \"~/R/packages\") )"
   ]
  },
  {
   "cell_type": "code",
   "execution_count": null,
   "metadata": {},
   "outputs": [],
   "source": [
    "list.of.packages <- c('aws.s3', 'sparklyr', 'dplyr')\n",
    "new.packages <- list.of.packages[!(list.of.packages %in% installed.packages()[,\"Package\"])]\n",
    "if(length(new.packages)) install.packages(new.packages, lib = mypkgdir, verbose = TRUE)"
   ]
  },
  {
   "cell_type": "code",
   "execution_count": null,
   "metadata": {},
   "outputs": [],
   "source": [
    "library(aws.s3)\n",
    "library(sparklyr)\n",
    "sc <- spark_connect(master = Sys.getenv('SPARK_MASTER_URL'))"
   ]
  },
  {
   "cell_type": "code",
   "execution_count": null,
   "metadata": {},
   "outputs": [],
   "source": [
    "# spark_read_csv(sc, name = 'flightstbl', path = 's3a://gregorygrubbs/datasets/flight-stats/2007.csv.gz', header = TRUE, infer_schema = TRUE)\n",
    "spark_read_csv(sc, name = 'github_stats', path = 's3a://gregoryg/datasets/github_stats/github_stats.csv.gz', header = TRUE, infer_schema = TRUE)"
   ]
  },
  {
   "cell_type": "code",
   "execution_count": null,
   "metadata": {},
   "outputs": [],
   "source": [
    "# spark_disconnect(sc)"
   ]
  }
 ],
 "metadata": {
  "kernelspec": {
   "display_name": "R",
   "language": "R",
   "name": "ir"
  },
  "language_info": {
   "codemirror_mode": "r",
   "file_extension": ".r",
   "mimetype": "text/x-r-source",
   "name": "R",
   "pygments_lexer": "r",
   "version": "3.5.1"
  }
 },
 "nbformat": 4,
 "nbformat_minor": 2
}
