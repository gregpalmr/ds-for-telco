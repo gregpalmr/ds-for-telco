{
 "cells": [
  {
   "cell_type": "markdown",
   "metadata": {},
   "source": [
    "# Load the data\n",
    "\n",
    "We need to load data from a file in to a Spark DataFrame.\n",
    "Each row is an observed customer, and each column contains\n",
    "attributes of that customer.\n",
    "\n",
    "[Data from UCI data set repo, hosted by SGI](https://www.sgi.com/tech/mlc/db/churn.all)\n",
    "\n",
    "    Fields:\n",
    "\n",
    "    state: discrete.\n",
    "    account length: numeric.\n",
    "    area code: numeric.\n",
    "    phone number: discrete.\n",
    "    international plan: discrete.\n",
    "    voice mail plan: discrete.\n",
    "    number vmail messages: numeric.\n",
    "    total day minutes: numeric.\n",
    "    total day calls: numeric.\n",
    "    total day charge: numeric.\n",
    "    total eve minutes: numeric.\n",
    "    total eve calls: numeric.\n",
    "    total eve charge: numeric.\n",
    "    total night minutes: numeric.\n",
    "    total night calls: numeric.\n",
    "    total night charge: numeric.\n",
    "    total intl minutes: numeric.\n",
    "    total intl calls: numeric.\n",
    "    total intl charge: numeric.\n",
    "    number customer service calls: numeric.\n",
    "    churned: discrete.\n",
    "\n",
    "'Numeric' and 'discrete' do not adequately describe the fundamental differences in the attributes.\n",
    "\n",
    "Area codes are considered numeric, but they a better thought of as a categorical variable. This is because attributes that are really numeric features have a reasonable concept of distance between points. Area codes do not fall into this cateogory. They can have a small distance |area_code_1 - area_code_2| but that distance doesn't correspond to a similarity in area codes."
   ]
  },
  {
   "cell_type": "code",
   "execution_count": null,
   "metadata": {},
   "outputs": [],
   "source": [
    "from pyspark import SparkContext, SparkConf\n",
    "from pyspark.sql import SQLContext\n",
    "from pyspark.sql.types import *"
   ]
  },
  {
   "cell_type": "code",
   "execution_count": null,
   "metadata": {},
   "outputs": [],
   "source": [
    "# Assure Hadoop conf dir is correct for DC/OS Data Science Engine\n",
    "import os,subprocess\n",
    "myenv = dict(os.environ, HADOOP_CONF_DIR=\"/mnt/mesos/sandbox/hadoop_conf\")"
   ]
  },
  {
   "cell_type": "code",
   "execution_count": null,
   "metadata": {},
   "outputs": [],
   "source": [
    "# # Move data to HDFS for shared access if directory not already provided\n",
    "subprocess.check_output('hdfs dfs -mkdir -p /data_lake/churndata/', shell=True, env=myenv)\n",
    "subprocess.check_output('hdfs dfs -put -f ../data/churn.all /data_lake/churndata/', shell=True, env=myenv);"
   ]
  },
  {
   "cell_type": "code",
   "execution_count": null,
   "metadata": {},
   "outputs": [],
   "source": [
    "conf = SparkConf().setAppName(\"customer-churn\")\n",
    "sc = SparkContext(conf=conf)\n",
    "sql = SQLContext(sc)\n",
    "schema = StructType([     StructField(\"state\", StringType(), True),     StructField(\"account_length\", DoubleType(), True),     StructField(\"area_code\", StringType(), True),     StructField(\"phone_number\", StringType(), True),     StructField(\"intl_plan\", StringType(), True),     StructField(\"voice_mail_plan\", StringType(), True),     StructField(\"number_vmail_messages\", DoubleType(), True),     StructField(\"total_day_minutes\", DoubleType(), True),     StructField(\"total_day_calls\", DoubleType(), True),     StructField(\"total_day_charge\", DoubleType(), True),     StructField(\"total_eve_minutes\", DoubleType(), True),     StructField(\"total_eve_calls\", DoubleType(), True),     StructField(\"total_eve_charge\", DoubleType(), True),     StructField(\"total_night_minutes\", DoubleType(), True),     StructField(\"total_night_calls\", DoubleType(), True),     StructField(\"total_night_charge\", DoubleType(), True),     StructField(\"total_intl_minutes\", DoubleType(), True),     StructField(\"total_intl_calls\", DoubleType(), True),     StructField(\"total_intl_charge\", DoubleType(), True),     StructField(\"number_customer_service_calls\", DoubleType(), True),     StructField(\"churned\", StringType(), True)])"
   ]
  },
  {
   "cell_type": "code",
   "execution_count": null,
   "metadata": {},
   "outputs": [],
   "source": [
    "churn_data = sql.read.csv('/data_lake/churndata/churn.all', schema = schema)"
   ]
  },
  {
   "cell_type": "markdown",
   "metadata": {},
   "source": [
    "# Basic DataFrame operations\n",
    "\n",
    "Dataframes essentially allow you to express sql-like statements. We can filter, count, and so on. [DataFrame Operations documentation.](http://spark.apache.org/docs/latest/sql-programming-guide.html#dataframe-operations)\n"
   ]
  },
  {
   "cell_type": "code",
   "execution_count": null,
   "metadata": {},
   "outputs": [],
   "source": [
    "count = churn_data.count()\n",
    "voice_mail_plans = churn_data.filter(churn_data.voice_mail_plan == \" yes\").count()\n",
    "churned_customers = churn_data.filter(churn_data.churned == \" True.\").count()\n",
    "\n",
    "\"total: %d, voice mail plans: %d, churned customers: %d \" % (count, voice_mail_plans, churned_customers)\n"
   ]
  },
  {
   "cell_type": "markdown",
   "metadata": {},
   "source": [
    "# How many customers have  more than one service call? \n"
   ]
  },
  {
   "cell_type": "code",
   "execution_count": null,
   "metadata": {},
   "outputs": [],
   "source": [
    "service_calls = churn_data.filter(churn_data.number_customer_service_calls > 1).count()\n",
    "service_calls2 = churn_data.filter(churn_data.number_customer_service_calls > 2).count()\n",
    "\n",
    "\"customers with more than 1 service call: %d, 2 service calls: %d\" % (service_calls, service_calls2)"
   ]
  },
  {
   "cell_type": "markdown",
   "metadata": {},
   "source": [
    "# Feature Visualization\n",
    "\n",
    "The data vizualization workflow for large data sets is usually:\n",
    "\n",
    "* Sample data so it fits in memory on a single machine.\n",
    "* Examine single variable distributions.\n",
    "* Examine joint distributions and correlations.\n",
    "* Look for other types of relationships.\n",
    "\n",
    "[DataFrame#sample() documentation](http://people.apache.org/~pwendell/spark-releases/spark-1.5.0-rc1-docs/api/python/pyspark.sql.html#pyspark.sql.DataFrame.sample)\n"
   ]
  },
  {
   "cell_type": "code",
   "execution_count": null,
   "metadata": {},
   "outputs": [],
   "source": [
    "sample_data = churn_data.sample(False, 0.5, 83).toPandas()\n",
    "sample_data.transpose().head(21)"
   ]
  },
  {
   "cell_type": "markdown",
   "metadata": {},
   "source": [
    "# DataTypes"
   ]
  },
  {
   "cell_type": "code",
   "execution_count": null,
   "metadata": {},
   "outputs": [],
   "source": [
    "import urllib\n",
    "from IPython.display import Image\n",
    "Image(filename=\"../slides/datatypes.png\")"
   ]
  },
  {
   "cell_type": "markdown",
   "metadata": {},
   "source": [
    "datatypes where continuous and integer are subtypes of numeric data and distinct from the categorical type(slides/datatypes.png)\n",
    "\n",
    "The type of visualization we do depends on the data type, so lets define what columns have different properties first:\n"
   ]
  },
  {
   "cell_type": "code",
   "execution_count": null,
   "metadata": {},
   "outputs": [],
   "source": [
    "numeric_cols = [\"account_length\", \"number_vmail_messages\", \"total_day_minutes\",\n",
    "                \"total_day_calls\", \"total_day_charge\", \"total_eve_minutes\",\n",
    "                \"total_eve_calls\", \"total_eve_charge\", \"total_night_minutes\",\n",
    "                \"total_night_calls\", \"total_night_charge\", \"total_intl_minutes\", \n",
    "                \"total_intl_calls\", \"total_intl_charge\",\"number_customer_service_calls\"]\n",
    "\n",
    "categorical_cols = [\"state\", \"international_plan\", \"voice_mail_plan\", \"area_code\"]"
   ]
  },
  {
   "cell_type": "markdown",
   "metadata": {},
   "source": [
    "# Seaborn\n",
    "\n",
    "Seaborn is a library for statistical visualization that is built on matplotlib.\n",
    "\n",
    "Great support for:\n",
    "* plotting distributions\n",
    "* regression analyses\n",
    "* plotting with categorical splitting\n",
    "\n",
    "\n",
    "\n"
   ]
  },
  {
   "cell_type": "code",
   "execution_count": null,
   "metadata": {},
   "outputs": [],
   "source": [
    "Image(filename=\"../slides/seaborn_home_page.png\")"
   ]
  },
  {
   "cell_type": "markdown",
   "metadata": {},
   "source": [
    "# Feature Distributions\n",
    "\n",
    "We want to examine the distribution of our features, so start with them one at a time.\n",
    "\n",
    "Seaborn has a standard function called [dist()](http://stanford.edu/~mwaskom/software/seaborn/generated/seaborn.distplot.html#seaborn.distplot) that allows us to easily examine the distribution of a column of a pandas dataframe or a numpy array."
   ]
  },
  {
   "cell_type": "code",
   "execution_count": null,
   "metadata": {},
   "outputs": [],
   "source": [
    "get_ipython().magic(u'matplotlib inline')\n",
    "import matplotlib.pyplot as plt\n",
    "import seaborn as sb\n",
    "\n",
    "sb.distplot(sample_data['number_customer_service_calls'], kde=False)"
   ]
  },
  {
   "cell_type": "markdown",
   "metadata": {},
   "source": [
    "We can examine feature differences in the distribution of our features when we condition (split) our data in whether they churned or not.\n",
    "\n",
    "[BoxPlot docs](http://stanford.edu/~mwaskom/software/seaborn/generated/seaborn.boxplot.html)\n"
   ]
  },
  {
   "cell_type": "code",
   "execution_count": null,
   "metadata": {},
   "outputs": [],
   "source": [
    "sb.boxplot(x=\"churned\", y=\"number_customer_service_calls\", data=sample_data)"
   ]
  },
  {
   "cell_type": "markdown",
   "metadata": {},
   "source": [
    "# Joint Distributions\n",
    "\n",
    "Looking at joint distributions of data can also tell us a lot, particularly about redundant features. [Seaborn's PairPlot](http://stanford.edu/~mwaskom/software/seaborn/generated/seaborn.pairplot.html#seaborn.pairplot) let's us look at joint distributions for many variables at once.\n"
   ]
  },
  {
   "cell_type": "code",
   "execution_count": null,
   "metadata": {},
   "outputs": [],
   "source": [
    "example_numeric_data = sample_data[[\"total_intl_minutes\", \"total_intl_calls\",\n",
    "                                       \"total_intl_charge\", \"churned\"]]\n",
    "sb.pairplot(example_numeric_data, hue=\"churned\")"
   ]
  },
  {
   "cell_type": "markdown",
   "metadata": {},
   "source": [
    "Clearly, there are some strong linear relationships between some variables, let's get a general impression of the correlations between variables by using [Seaborn's heatmap functionality.](http://stanford.edu/~mwaskom/software/seaborn/generated/seaborn.heatmap.html)\n"
   ]
  },
  {
   "cell_type": "code",
   "execution_count": null,
   "metadata": {},
   "outputs": [],
   "source": [
    "corr = sample_data[[\"account_length\", \"number_vmail_messages\", \"total_day_minutes\",\n",
    "                    \"total_day_calls\", \"total_day_charge\", \"total_eve_minutes\",\n",
    "                    \"total_eve_calls\", \"total_eve_charge\", \"total_night_minutes\",\n",
    "                    \"total_night_calls\", \"total_night_charge\", \"total_intl_minutes\", \n",
    "                    \"total_intl_calls\", \"total_intl_charge\",\"number_customer_service_calls\"]].corr()\n",
    "\n",
    "sb.heatmap(corr)\n"
   ]
  },
  {
   "cell_type": "markdown",
   "metadata": {},
   "source": [
    "The heatmap shows which features we can eliminate due to high correlation. We then get the following:"
   ]
  },
  {
   "cell_type": "markdown",
   "metadata": {},
   "source": [
    "# Build a classification model using MLLib\n",
    "\n",
    "We want to build a predictive model.\n",
    "\n",
    "The overall process:\n"
   ]
  },
  {
   "cell_type": "code",
   "execution_count": null,
   "metadata": {},
   "outputs": [],
   "source": [
    "reduced_numeric_cols = [\"account_length\", \"number_vmail_messages\", \"total_day_calls\",\n",
    "                        \"total_day_charge\", \"total_eve_calls\", \"total_eve_charge\",\n",
    "                        \"total_night_calls\", \"total_night_charge\", \"total_intl_calls\", \n",
    "                        \"total_intl_charge\",\"number_customer_service_calls\"]\n",
    "\n",
    "Image(filename=\"../slides/model flow.png\")\n"
   ]
  },
  {
   "cell_type": "markdown",
   "metadata": {},
   "source": [
    "Model building diagraming showing input data split into train and test data. The training data is aligned with a feature extraction and model training set, which outputs a fitter model. The testing data alignes with a feature extraction, scoring/model application, and model evaluation step\n",
    "\n",
    "# Feature Extraction and Model Training\n",
    "\n",
    "We need to:\n",
    "* Code features that are not already numeric\n",
    "* Gather all features we need into a single column in the DataFrame.\n",
    "* Split labeled data into training and testing set\n",
    "* Fit the model to the training data.\n",
    "\n",
    "## Feature Extraction\n",
    "We need to define our input features.\n",
    "\n",
    "[PySpark Pipeline Docs](https://spark.apache.org/docs/1.5.0/api/python/pyspark.ml.html)\n",
    "\n",
    "## Note\n",
    "StringIndexer --> Turns string value into numerical value. I.E. below we use it to map \"churned\" (\"yes\" or \"no\") into numerical values and put in it colum \"label\".\n",
    "\n",
    "VectorAssembler --> takes input columns and returns a vector object into output column\n"
   ]
  },
  {
   "cell_type": "code",
   "execution_count": null,
   "metadata": {},
   "outputs": [],
   "source": [
    "from pyspark.ml.feature import StringIndexer\n",
    "from pyspark.ml.feature import VectorAssembler\n",
    "\n",
    "label_indexer = StringIndexer(inputCol = 'churned', outputCol = 'label')\n",
    "plan_indexer = StringIndexer(inputCol = 'intl_plan', outputCol = 'intl_plan_indexed')\n",
    "\n",
    "assembler = VectorAssembler(\n",
    "    inputCols = ['intl_plan_indexed'] + reduced_numeric_cols,\n",
    "    outputCol = 'features')\n"
   ]
  },
  {
   "cell_type": "markdown",
   "metadata": {},
   "source": [
    "# Model Training\n",
    "\n",
    "We can now define our classifier and pipeline. With this done, we can split our labeled data in train and test sets and fit a model.\n",
    "\n",
    "To train the decision tree, give it the feature vector column and the label column. \n",
    "\n",
    "Pipeline is defined by stages. Index plan column, label column, create vectors, then define the decision tree. \n"
   ]
  },
  {
   "cell_type": "code",
   "execution_count": null,
   "metadata": {},
   "outputs": [],
   "source": [
    "from pyspark.ml import Pipeline\n",
    "from pyspark.ml.classification import DecisionTreeClassifier\n",
    "\n",
    "classifier = DecisionTreeClassifier(labelCol = 'label', featuresCol = 'features')\n",
    "\n",
    "pipeline = Pipeline(stages=[plan_indexer, label_indexer, assembler, classifier])\n",
    "\n",
    "(train, test) = churn_data.randomSplit([0.7, 0.3])\n",
    "model = pipeline.fit(train)\n"
   ]
  },
  {
   "cell_type": "markdown",
   "metadata": {},
   "source": [
    "## Model Evaluation\n",
    "\n",
    "The most important question to ask:\n",
    "    \n",
    "    Is my predictor better than random guessing?\n",
    "\n",
    "How do we quantify that?\n",
    "\n",
    "Measure the area under the ROC curve, abreviated to AUROC.\n",
    "\n",
    "Plots True Positive Rate vs False Positive Rate for binary classification system\n",
    "\n",
    "[More Info](https://en.wikipedia.org/wiki/Receiver_operating_characteristic)\n",
    "\n",
    "TL;DR for AUROC:\n",
    "    * .90-1 = excellent (A)\n",
    "    * .80-.90 = good (B)\n",
    "    * .70-.80 = fair (C)\n",
    "    * .60-.70 = poor (D)\n",
    "    * .50-.60 = fail (F)\n",
    "\n"
   ]
  },
  {
   "cell_type": "code",
   "execution_count": null,
   "metadata": {},
   "outputs": [],
   "source": [
    "Image(filename=\"../slides/roc_curve.png\")"
   ]
  },
  {
   "cell_type": "code",
   "execution_count": null,
   "metadata": {},
   "outputs": [],
   "source": [
    "from pyspark.ml.evaluation import BinaryClassificationEvaluator\n",
    "\n",
    "predictions = model.transform(test)\n",
    "evaluator = BinaryClassificationEvaluator()\n",
    "auroc = evaluator.evaluate(predictions, {evaluator.metricName: \"areaUnderROC\"})\n",
    "\"The AUROC is %s \" % (auroc)"
   ]
  },
  {
   "cell_type": "markdown",
   "metadata": {},
   "source": [
    "# Fit a RandomForestClassifier\n",
    "\n",
    "Fit a random forest classifier to the data. Try experimenting with different values of the `maxDepth`, `numTrees`, and `entropy` parameters to see which gives the best classification performance. Do the settings that give the best classification performance on the training set also give the best classification performance on the test set?\n",
    "\n",
    "Have a look at the [documentation](http://spark.apache.org/docs/latest/api/python/pyspark.ml.html#pyspark.ml.classification.RandomForestClassifier]documentation)."
   ]
  },
  {
   "cell_type": "code",
   "execution_count": null,
   "metadata": {},
   "outputs": [],
   "source": [
    "from pyspark.ml.classification import RandomForestClassifier\n",
    " \n",
    "classifier = RandomForestClassifier(labelCol = 'label', featuresCol = 'features', numTrees= 10)\n",
    "pipeline = Pipeline(stages=[plan_indexer, label_indexer, assembler, classifier])\n",
    "model = pipeline.fit(train)\n",
    "\n",
    "predictions = model.transform(test)\n",
    "evaluator = BinaryClassificationEvaluator()\n",
    "auroc = evaluator.evaluate(predictions, {evaluator.metricName: \"areaUnderROC\"})\n",
    "\"The AUROC is %s \" % (auroc)\n"
   ]
  },
  {
   "cell_type": "code",
   "execution_count": null,
   "metadata": {},
   "outputs": [],
   "source": [
    "# If you need to inspect the predictions...\n",
    "\n",
    "predictions.select('label','prediction','probability').filter('prediction = 1').toPandas()"
   ]
  },
  {
   "cell_type": "code",
   "execution_count": null,
   "metadata": {},
   "outputs": [],
   "source": [
    "sc.stop()"
   ]
  },
  {
   "cell_type": "code",
   "execution_count": null,
   "metadata": {},
   "outputs": [],
   "source": []
  }
 ],
 "metadata": {
  "kernelspec": {
   "display_name": "Python 3",
   "language": "python",
   "name": "python3"
  },
  "language_info": {
   "codemirror_mode": {
    "name": "ipython",
    "version": 3
   },
   "file_extension": ".py",
   "mimetype": "text/x-python",
   "name": "python",
   "nbconvert_exporter": "python",
   "pygments_lexer": "ipython3",
   "version": "3.6.7"
  }
 },
 "nbformat": 4,
 "nbformat_minor": 2
}
